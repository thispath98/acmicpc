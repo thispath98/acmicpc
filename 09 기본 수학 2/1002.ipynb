{
 "cells": [
  {
   "cell_type": "markdown",
   "id": "c5e2f234",
   "metadata": {},
   "source": [
    "# 1002번"
   ]
  },
  {
   "cell_type": "code",
   "execution_count": null,
   "id": "f99f4d7a",
   "metadata": {},
   "outputs": [],
   "source": [
    "T = int(input())\n",
    "\n",
    "for a in range(T):\n",
    "    x1, y1, r1, x2, y2, r2 = map(int, input().split())\n",
    "    \n",
    "    d = ((x1 - x2) ** 2 + (y1 - y2) ** 2) ** (1/2)\n",
    "    \n",
    "    if d == 0 and r1 == r2:\n",
    "        print(-1)\n",
    "    elif abs(r1 - r2) < d < (r1 + r2):\n",
    "        print(2)\n",
    "    elif (r1 + r2) == d or abs(r1 - r2) == d:\n",
    "        print(1)\n",
    "    else:\n",
    "        print(0)"
   ]
  }
 ],
 "metadata": {
  "kernelspec": {
   "display_name": "Python 3",
   "language": "python",
   "name": "python3"
  },
  "language_info": {
   "codemirror_mode": {
    "name": "ipython",
    "version": 3
   },
   "file_extension": ".py",
   "mimetype": "text/x-python",
   "name": "python",
   "nbconvert_exporter": "python",
   "pygments_lexer": "ipython3",
   "version": "3.8.8"
  }
 },
 "nbformat": 4,
 "nbformat_minor": 5
}
